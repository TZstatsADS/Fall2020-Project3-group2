{
 "cells": [
  {
   "cell_type": "markdown",
   "metadata": {},
   "source": [
    "# VGG16 Model for Project 3 \n",
    "### By Tianle Zhu"
   ]
  },
  {
   "cell_type": "markdown",
   "metadata": {},
   "source": [
    "VGG16 is one of the earliest successes of Convolutional Neural Networks in image recognition tasks. It increases network depth to improve model performance.  The network generalizes extraordinary well to image recognition, classification, and localization tasks. The VGG16 pre-trained weights were trained on ImageNet data. \n",
    "\n",
    "Advantage: But the simplicity of the VGG-16 architecture made it quite appealing and uniform. \n",
    "\n",
    "Disadvantage: The main downside was that it was a pretty large network in terms of the number of parameters you had to train. \n",
    "\n",
    "For the VGG16 model, we fine-tune the hyperparameters learning rate and echo. Due to our small dataset, our VGG16 model didn't perform well. To improve the VGG16 model, the next step we will do the data augmentation to increase the data size.  "
   ]
  },
  {
   "cell_type": "code",
   "execution_count": 1,
   "metadata": {},
   "outputs": [
    {
     "name": "stderr",
     "output_type": "stream",
     "text": [
      "//anaconda3/lib/python3.7/site-packages/sklearn/externals/joblib/__init__.py:15: DeprecationWarning: sklearn.externals.joblib is deprecated in 0.21 and will be removed in 0.23. Please import this functionality directly from joblib, which can be installed with: pip install joblib. If this warning is raised when loading pickled models, you may need to re-serialize those models with scikit-learn 0.21+.\n",
      "  warnings.warn(msg, category=DeprecationWarning)\n",
      "Using TensorFlow backend.\n"
     ]
    }
   ],
   "source": [
    "import pandas as pd\n",
    "import numpy as np\n",
    "import seaborn as sns\n",
    "from sklearn.model_selection import train_test_split\n",
    "import time\n",
    "import matplotlib.pyplot as plt\n",
    "from sklearn.metrics import classification_report\n",
    "from sklearn.metrics import confusion_matrix\n",
    "from sklearn.externals import joblib\n",
    "from sklearn.ensemble import GradientBoostingClassifier \n",
    "from tensorflow.keras.models import Sequential\n",
    "from tensorflow.keras.layers import InputLayer, Input\n",
    "from keras.layers import Conv2D, Dense, Flatten, Dropout, Activation\n",
    "from tensorflow.keras.layers import BatchNormalization, Reshape, MaxPooling2D, GlobalAveragePooling2D\n",
    "from tensorflow.keras.preprocessing.image import ImageDataGenerator\n",
    "from tensorflow.keras.callbacks import EarlyStopping, ModelCheckpoint\n",
    "from keras.applications import VGG16\n",
    "import tensorflow as tf\n",
    "from tensorflow import keras\n",
    "from keras import Model\n",
    "import os\n",
    "from shutil import copyfile, move\n",
    "from tqdm import tqdm\n",
    "import h5py\n",
    "from sklearn import metrics\n",
    "#from tensorflow.keras import optimizers\n",
    "from keras import optimizers"
   ]
  },
  {
   "cell_type": "code",
   "execution_count": 2,
   "metadata": {},
   "outputs": [],
   "source": [
    "batch_size = 16"
   ]
  },
  {
   "cell_type": "code",
   "execution_count": 6,
   "metadata": {},
   "outputs": [
    {
     "name": "stdout",
     "output_type": "stream",
     "text": [
      "Found 2384 images belonging to 2 classes.\n",
      "Found 616 images belonging to 2 classes.\n"
     ]
    }
   ],
   "source": [
    "train_datagen = ImageDataGenerator(\n",
    "    rescale=1. / 255,\n",
    "    horizontal_flip=True,\n",
    "    vertical_flip=True)\n",
    "\n",
    "train_data_dir = \"../../data/train_set/data/train\"\n",
    "train_generator = train_datagen.flow_from_directory(\n",
    "    train_data_dir,\n",
    "    shuffle=True,\n",
    "    target_size=(64, 64),\n",
    "    batch_size=batch_size,\n",
    "    class_mode='binary')\n",
    "\n",
    "validation_datagen = ImageDataGenerator(rescale=1. / 255)\n",
    "validation_data_dir = \"../../data/train_set/data/validation\"\n",
    "validation_generator = validation_datagen.flow_from_directory(\n",
    "    validation_data_dir,\n",
    "    target_size=(64, 64),\n",
    "    batch_size=batch_size,\n",
    "    class_mode='binary')\n",
    "\n",
    "input_shape = (64,64,3)\n",
    "num_classes = 2"
   ]
  },
  {
   "cell_type": "code",
   "execution_count": null,
   "metadata": {},
   "outputs": [],
   "source": [
    "vgg = VGG16(input_shape = input_shape, weights = 'imagenet', include_top = False)\n",
    "for layer in vgg.layers:\n",
    "    layer.trainable = False\n",
    "\n",
    "x = Flatten()(vgg.output)\n",
    "x = Dense(128, activation = 'relu')(x)   # we can add a new fully connected layer but it will increase the execution time.\n",
    "x = Dense(1, activation = 'sigmoid')(x)  # adding the output layer with sigmoid function \n",
    "\n",
    "model = Model(inputs = vgg.input, outputs = x)\n",
    "# learning rate try  0.01, 0.001, 0.001\n",
    "#Adam = keras.optimizers.Adam(lr = 0.001)\n",
    "Adam = optimizers.Adam(lr = 0.05)\n",
    "model.compile(loss = 'binary_crossentropy', optimizer = Adam, metrics = ['accuracy'])"
   ]
  },
  {
   "cell_type": "code",
   "execution_count": null,
   "metadata": {},
   "outputs": [],
   "source": [
    "start_time_train = time.time()\n",
    "history = model.fit_generator(train_generator,\n",
    "                   steps_per_epoch = 38,  # this should be equal to total number of images in training set. Change this for better results. \n",
    "                   epochs = 10,  # change this for better results\n",
    "                   class_weight = [85,1], # change this for better results\n",
    "                   validation_data = validation_generator,\n",
    "                   validation_steps = 10)\n",
    "elapsed_time_train = time.time() - start_time_train"
   ]
  },
  {
   "cell_type": "code",
   "execution_count": null,
   "metadata": {},
   "outputs": [],
   "source": [
    "train_acc = history.history['acc'][-1]\n",
    "validation_acc = history.history['val_acc'][-1]"
   ]
  },
  {
   "cell_type": "code",
   "execution_count": null,
   "metadata": {},
   "outputs": [],
   "source": [
    "validation_generator.reset()"
   ]
  },
  {
   "cell_type": "code",
   "execution_count": null,
   "metadata": {},
   "outputs": [],
   "source": [
    "start_time_test = time.time()\n",
    "pred = model.predict_generator(validation_generator,verbose = 1, steps= 616/16)\n",
    "elapsed_time_test = time.time() - start_time_test"
   ]
  },
  {
   "cell_type": "code",
   "execution_count": null,
   "metadata": {},
   "outputs": [],
   "source": [
    "model.evaluate_generator(validation_generator,steps = 616/16)"
   ]
  },
  {
   "cell_type": "code",
   "execution_count": null,
   "metadata": {},
   "outputs": [],
   "source": [
    "# Calculate AUC\n",
    "fpr, tpr, thresholds = metrics.roc_curve(validation_generator.classes, pred)\n",
    "AUC_vaule = metrics.auc(fpr, tpr)\n",
    "AUC_vaule"
   ]
  },
  {
   "cell_type": "code",
   "execution_count": null,
   "metadata": {},
   "outputs": [],
   "source": [
    "print(\"For the VGG16 model peformance\")\n",
    "print(\"Training time:\", elapsed_time_train)\n",
    "print(\"Testing time:\", elapsed_time_test)\n",
    "print(\"Training Accuracy:\", train_acc)\n",
    "print(\"Validation Accuracy:\", validation_acc)\n",
    "print(\"AUC for VGG16 moldel:\", AUC_vaule)"
   ]
  },
  {
   "cell_type": "code",
   "execution_count": null,
   "metadata": {},
   "outputs": [],
   "source": [
    "# testing_datagen = ImageDataGenerator(rescale=1. / 255)\n",
    "# testing_data_dir = \"../data/train_set/data/test\"\n",
    "\n",
    "# testing_generator = testing_datagen.flow_from_directory(\n",
    "#     testing_data_dir,\n",
    "#     target_size=(64, 64),\n",
    "#     batch_size=batch_size,\n",
    "#     class_mode='binary')"
   ]
  },
  {
   "cell_type": "code",
   "execution_count": null,
   "metadata": {},
   "outputs": [],
   "source": []
  }
 ],
 "metadata": {
  "kernelspec": {
   "display_name": "Python 3",
   "language": "python",
   "name": "python3"
  },
  "language_info": {
   "codemirror_mode": {
    "name": "ipython",
    "version": 3
   },
   "file_extension": ".py",
   "mimetype": "text/x-python",
   "name": "python",
   "nbconvert_exporter": "python",
   "pygments_lexer": "ipython3",
   "version": "3.7.3"
  }
 },
 "nbformat": 4,
 "nbformat_minor": 2
}
